{
  "cells": [
    {
      "cell_type": "markdown",
      "metadata": {
        "id": "view-in-github",
        "colab_type": "text"
      },
      "source": [
        "<a href=\"https://colab.research.google.com/github/ntHieu03/DA_PYTHON/blob/main/06.ipynb\" target=\"_parent\"><img src=\"https://colab.research.google.com/assets/colab-badge.svg\" alt=\"Open In Colab\"/></a>"
      ]
    },
    {
      "cell_type": "markdown",
      "metadata": {
        "pycharm": {
          "name": "#%% md\n"
        },
        "id": "O0RkgBCJNv6H"
      },
      "source": [
        "# Housing Market"
      ]
    },
    {
      "cell_type": "markdown",
      "metadata": {
        "pycharm": {
          "name": "#%% md\n"
        },
        "id": "uyK-MoipNv6R"
      },
      "source": [
        "### Introduction:\n",
        "\n",
        "This time we will create our own dataset with fictional numbers to describe a house market. As we are going to create random data don't try to reason of the numbers.\n",
        "\n",
        "### Step 1. Import the necessary libraries"
      ]
    },
    {
      "cell_type": "code",
      "execution_count": 1,
      "metadata": {
        "pycharm": {
          "name": "#%%\n"
        },
        "id": "ltvB5dR5Nv6S"
      },
      "outputs": [],
      "source": [
        "import pandas as pd\n",
        "import numpy as np"
      ]
    },
    {
      "cell_type": "markdown",
      "metadata": {
        "pycharm": {
          "name": "#%% md\n"
        },
        "id": "IWQzVoWGNv6S"
      },
      "source": [
        "### Step 2. Create 3 differents Series, each of length 100, as follows:\n",
        "1. The first a random number from 1 to 4\n",
        "2. The second a random number from 1 to 3\n",
        "3. The third a random number from 10,000 to 30,000"
      ]
    },
    {
      "cell_type": "code",
      "execution_count": 13,
      "metadata": {
        "pycharm": {
          "name": "#%%\n"
        },
        "colab": {
          "base_uri": "https://localhost:8080/"
        },
        "id": "VxALnR6kNv6S",
        "outputId": "56953891-5c5e-4299-dc47-a10475c7fff8"
      },
      "outputs": [
        {
          "output_type": "stream",
          "name": "stdout",
          "text": [
            "Series 1:\n",
            "0     2\n",
            "1     2\n",
            "2     2\n",
            "3     1\n",
            "4     1\n",
            "     ..\n",
            "95    1\n",
            "96    3\n",
            "97    3\n",
            "98    2\n",
            "99    1\n",
            "Length: 100, dtype: int64\n",
            "\n",
            "Series 2:\n",
            "0     3\n",
            "1     1\n",
            "2     1\n",
            "3     2\n",
            "4     2\n",
            "     ..\n",
            "95    3\n",
            "96    1\n",
            "97    2\n",
            "98    1\n",
            "99    1\n",
            "Length: 100, dtype: int64\n",
            "\n",
            "Series 3:\n",
            "0     26926\n",
            "1     26195\n",
            "2     24834\n",
            "3     29228\n",
            "4     27897\n",
            "      ...  \n",
            "95    24416\n",
            "96    24139\n",
            "97    16932\n",
            "98    26760\n",
            "99    29341\n",
            "Length: 100, dtype: int64\n"
          ]
        }
      ],
      "source": [
        "series1 = pd.Series(np.random.randint(1, 5, size=100))\n",
        "series2 = pd.Series(np.random.randint(1, 4, size=100))\n",
        "series3 = pd.Series(np.random.randint(10000, 30001, size=100))\n",
        "\n",
        "print(\"Series 1:\")\n",
        "print(series1)\n",
        "print(\"\\nSeries 2:\")\n",
        "print(series2)\n",
        "print(\"\\nSeries 3:\")\n",
        "print(series3)"
      ]
    },
    {
      "cell_type": "markdown",
      "metadata": {
        "pycharm": {
          "name": "#%% md\n"
        },
        "id": "jC46cKA0Nv6S"
      },
      "source": [
        "### Step 3. Let's create a DataFrame by joinning the Series by column"
      ]
    },
    {
      "cell_type": "code",
      "execution_count": 14,
      "metadata": {
        "pycharm": {
          "name": "#%%\n"
        },
        "colab": {
          "base_uri": "https://localhost:8080/"
        },
        "id": "ACTjDbhdNv6T",
        "outputId": "52ee79b9-5693-4e6a-b23e-5e32564aa16a"
      },
      "outputs": [
        {
          "output_type": "stream",
          "name": "stdout",
          "text": [
            "    Series 1  Series 2  Series 3\n",
            "0          2         3     26926\n",
            "1          2         1     26195\n",
            "2          2         1     24834\n",
            "3          1         2     29228\n",
            "4          1         2     27897\n",
            "..       ...       ...       ...\n",
            "95         1         3     24416\n",
            "96         3         1     24139\n",
            "97         3         2     16932\n",
            "98         2         1     26760\n",
            "99         1         1     29341\n",
            "\n",
            "[100 rows x 3 columns]\n"
          ]
        }
      ],
      "source": [
        "df = pd.concat([series1, series2, series3], axis=1)\n",
        "df.columns = ['Series 1', 'Series 2', 'Series 3']\n",
        "\n",
        "print(df)"
      ]
    },
    {
      "cell_type": "markdown",
      "metadata": {
        "pycharm": {
          "name": "#%% md\n"
        },
        "id": "Gte-ehRsNv6T"
      },
      "source": [
        "### Step 4. Change the name of the columns to bedrs, bathrs, price_sqr_meter"
      ]
    },
    {
      "cell_type": "code",
      "execution_count": 15,
      "metadata": {
        "pycharm": {
          "name": "#%%\n"
        },
        "colab": {
          "base_uri": "https://localhost:8080/"
        },
        "id": "mof2GATcNv6T",
        "outputId": "44639a5e-6967-485a-92d0-0d2b10ac9db0"
      },
      "outputs": [
        {
          "output_type": "stream",
          "name": "stdout",
          "text": [
            "    bedrs  bathrs  price_sqr_meter\n",
            "0       2       3            26926\n",
            "1       2       1            26195\n",
            "2       2       1            24834\n",
            "3       1       2            29228\n",
            "4       1       2            27897\n",
            "..    ...     ...              ...\n",
            "95      1       3            24416\n",
            "96      3       1            24139\n",
            "97      3       2            16932\n",
            "98      2       1            26760\n",
            "99      1       1            29341\n",
            "\n",
            "[100 rows x 3 columns]\n"
          ]
        }
      ],
      "source": [
        "df.columns = ['bedrs', 'bathrs', 'price_sqr_meter']\n",
        "print(df)"
      ]
    },
    {
      "cell_type": "markdown",
      "metadata": {
        "pycharm": {
          "name": "#%% md\n"
        },
        "id": "jIWNKO5INv6T"
      },
      "source": [
        "### Step 5. Create a one column DataFrame with the values of the 3 Series and assign it to 'bigcolumn'"
      ]
    },
    {
      "cell_type": "code",
      "execution_count": 16,
      "metadata": {
        "pycharm": {
          "name": "#%%\n"
        },
        "colab": {
          "base_uri": "https://localhost:8080/"
        },
        "id": "FJjIoKQWNv6T",
        "outputId": "87d32dbb-5cf4-4da5-ad05-b7aefd57ea69"
      },
      "outputs": [
        {
          "output_type": "stream",
          "name": "stdout",
          "text": [
            "    bigcolumn\n",
            "0           2\n",
            "1           2\n",
            "2           2\n",
            "3           1\n",
            "4           1\n",
            "..        ...\n",
            "95      24416\n",
            "96      24139\n",
            "97      16932\n",
            "98      26760\n",
            "99      29341\n",
            "\n",
            "[300 rows x 1 columns]\n"
          ]
        }
      ],
      "source": [
        "df = pd.concat([series1, series2, series3], axis=0)\n",
        "\n",
        "df_bigcolumn = pd.DataFrame(df, columns=['bigcolumn'])\n",
        "\n",
        "print(df_bigcolumn)"
      ]
    },
    {
      "cell_type": "markdown",
      "metadata": {
        "pycharm": {
          "name": "#%% md\n"
        },
        "id": "S87DAjEpNv6T"
      },
      "source": [
        "### Step 6. Oops, it seems it is going only until index 99. Is it true?"
      ]
    },
    {
      "cell_type": "code",
      "execution_count": null,
      "metadata": {
        "pycharm": {
          "name": "#%%\n"
        },
        "id": "aY1H7bRwNv6T"
      },
      "outputs": [],
      "source": [
        "Yes."
      ]
    },
    {
      "cell_type": "markdown",
      "metadata": {
        "pycharm": {
          "name": "#%% md\n"
        },
        "id": "ikK8tAHDNv6U"
      },
      "source": [
        "### Step 7. Reindex the DataFrame so it goes from 0 to 299"
      ]
    },
    {
      "cell_type": "code",
      "source": [
        "df_bigcolumn = pd.DataFrame(df, columns=['bigcolumn']).reset_index(drop=True)\n",
        "\n",
        "df_bigcolumn = df_bigcolumn.reindex(range(300))\n",
        "\n",
        "print(df_bigcolumn)"
      ],
      "metadata": {
        "colab": {
          "base_uri": "https://localhost:8080/"
        },
        "id": "OsLZ1qbmSbQ-",
        "outputId": "39859f8c-6da3-4375-c759-908d4e43c251"
      },
      "execution_count": 17,
      "outputs": [
        {
          "output_type": "stream",
          "name": "stdout",
          "text": [
            "     bigcolumn\n",
            "0            2\n",
            "1            2\n",
            "2            2\n",
            "3            1\n",
            "4            1\n",
            "..         ...\n",
            "295      24416\n",
            "296      24139\n",
            "297      16932\n",
            "298      26760\n",
            "299      29341\n",
            "\n",
            "[300 rows x 1 columns]\n"
          ]
        }
      ]
    },
    {
      "cell_type": "code",
      "execution_count": null,
      "metadata": {
        "pycharm": {
          "name": "#%%\n"
        },
        "id": "pnzPO5puNv6U"
      },
      "outputs": [],
      "source": []
    }
  ],
  "metadata": {
    "kernelspec": {
      "display_name": "Python 2",
      "language": "python",
      "name": "python2"
    },
    "language_info": {
      "codemirror_mode": {
        "name": "ipython",
        "version": 2
      },
      "file_extension": ".py",
      "mimetype": "text/x-python",
      "name": "python",
      "nbconvert_exporter": "python",
      "pygments_lexer": "ipython2",
      "version": "2.7.11"
    },
    "colab": {
      "provenance": [],
      "include_colab_link": true
    }
  },
  "nbformat": 4,
  "nbformat_minor": 0
}