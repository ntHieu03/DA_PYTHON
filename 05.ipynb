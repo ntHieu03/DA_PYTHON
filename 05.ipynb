{
  "cells": [
    {
      "cell_type": "markdown",
      "metadata": {
        "id": "view-in-github",
        "colab_type": "text"
      },
      "source": [
        "<a href=\"https://colab.research.google.com/github/ntHieu03/DA_PYTHON/blob/main/05.ipynb\" target=\"_parent\"><img src=\"https://colab.research.google.com/assets/colab-badge.svg\" alt=\"Open In Colab\"/></a>"
      ]
    },
    {
      "cell_type": "markdown",
      "metadata": {
        "pycharm": {
          "name": "#%% md\n"
        },
        "id": "XKPKZ9gLxfj-"
      },
      "source": [
        "# Student Alcohol Consumption"
      ]
    },
    {
      "cell_type": "markdown",
      "metadata": {
        "pycharm": {
          "name": "#%% md\n"
        },
        "id": "gKhfhlorxfkJ"
      },
      "source": [
        "### Introduction:\n",
        "\n",
        "This time you will download a dataset from the UCI.\n",
        "\n",
        "### Step 1. Import the necessary libraries"
      ]
    },
    {
      "cell_type": "code",
      "execution_count": 2,
      "metadata": {
        "pycharm": {
          "name": "#%%\n"
        },
        "id": "2xMeHJV_xfkJ"
      },
      "outputs": [],
      "source": [
        "import pandas as pd"
      ]
    },
    {
      "cell_type": "markdown",
      "metadata": {
        "pycharm": {
          "name": "#%% md\n"
        },
        "id": "RTr6WS4zxfkK"
      },
      "source": [
        "### Step 2. Import the dataset from this [address](https://raw.githubusercontent.com/thieu1995/csv-files/main/data/pandas/student-mat.csv)."
      ]
    },
    {
      "cell_type": "markdown",
      "metadata": {
        "pycharm": {
          "name": "#%% md\n"
        },
        "id": "JkQGuxbUxfkK"
      },
      "source": [
        "### Step 3. Assign it to a variable called df."
      ]
    },
    {
      "cell_type": "code",
      "execution_count": 3,
      "metadata": {
        "pycharm": {
          "name": "#%%\n"
        },
        "id": "bqifL4e4xfkK"
      },
      "outputs": [],
      "source": [
        "df = pd.read_csv('https://raw.githubusercontent.com/thieu1995/csv-files/main/data/pandas/student-mat.csv')"
      ]
    },
    {
      "cell_type": "markdown",
      "metadata": {
        "pycharm": {
          "name": "#%% md\n"
        },
        "id": "M24vqeRyxfkL"
      },
      "source": [
        "### Step 4. For the purpose of this exercise slice the dataframe from 'school' until the 'guardian' column"
      ]
    },
    {
      "cell_type": "code",
      "execution_count": 4,
      "metadata": {
        "pycharm": {
          "name": "#%%\n"
        },
        "colab": {
          "base_uri": "https://localhost:8080/"
        },
        "id": "9IsCkGTbxfkL",
        "outputId": "7831127e-286e-4c84-abf3-9ab3c998e4a1"
      },
      "outputs": [
        {
          "output_type": "stream",
          "name": "stdout",
          "text": [
            "    school sex  age address famsize Pstatus  Medu  Fedu      Mjob      Fjob  \\\n",
            "0       GP   F   18       U     GT3       A     4     4   at_home   teacher   \n",
            "1       GP   F   17       U     GT3       T     1     1   at_home     other   \n",
            "2       GP   F   15       U     LE3       T     1     1   at_home     other   \n",
            "3       GP   F   15       U     GT3       T     4     2    health  services   \n",
            "4       GP   F   16       U     GT3       T     3     3     other     other   \n",
            "..     ...  ..  ...     ...     ...     ...   ...   ...       ...       ...   \n",
            "390     MS   M   20       U     LE3       A     2     2  services  services   \n",
            "391     MS   M   17       U     LE3       T     3     1  services  services   \n",
            "392     MS   M   21       R     GT3       T     1     1     other     other   \n",
            "393     MS   M   18       R     LE3       T     3     2  services     other   \n",
            "394     MS   M   19       U     LE3       T     1     1     other   at_home   \n",
            "\n",
            "     reason guardian  \n",
            "0    course   mother  \n",
            "1    course   father  \n",
            "2     other   mother  \n",
            "3      home   mother  \n",
            "4      home   father  \n",
            "..      ...      ...  \n",
            "390  course    other  \n",
            "391  course   mother  \n",
            "392  course    other  \n",
            "393  course   mother  \n",
            "394  course   father  \n",
            "\n",
            "[395 rows x 12 columns]\n"
          ]
        }
      ],
      "source": [
        "sliced_df = df.loc[:, 'school':'guardian']\n",
        "\n",
        "# Hiển thị DataFrame sau khi cắt lát\n",
        "print(sliced_df)"
      ]
    },
    {
      "cell_type": "markdown",
      "metadata": {
        "pycharm": {
          "name": "#%% md\n"
        },
        "id": "HhTMHPpqxfkL"
      },
      "source": [
        "### Step 5. Create a lambda function that will capitalize strings."
      ]
    },
    {
      "cell_type": "code",
      "execution_count": 14,
      "metadata": {
        "pycharm": {
          "name": "#%%\n"
        },
        "colab": {
          "base_uri": "https://localhost:8080/"
        },
        "id": "S_oqHk0xxfkL",
        "outputId": "df00e86f-920c-452c-eaed-5c4bd2af5ab0"
      },
      "outputs": [
        {
          "output_type": "stream",
          "name": "stdout",
          "text": [
            "    school sex address famsize Pstatus      Mjob      Fjob  reason guardian\n",
            "0       GP   F       U     GT3       A   AT_HOME   TEACHER  COURSE   MOTHER\n",
            "1       GP   F       U     GT3       T   AT_HOME     OTHER  COURSE   FATHER\n",
            "2       GP   F       U     LE3       T   AT_HOME     OTHER   OTHER   MOTHER\n",
            "3       GP   F       U     GT3       T    HEALTH  SERVICES    HOME   MOTHER\n",
            "4       GP   F       U     GT3       T     OTHER     OTHER    HOME   FATHER\n",
            "..     ...  ..     ...     ...     ...       ...       ...     ...      ...\n",
            "390     MS   M       U     LE3       A  SERVICES  SERVICES  COURSE    OTHER\n",
            "391     MS   M       U     LE3       T  SERVICES  SERVICES  COURSE   MOTHER\n",
            "392     MS   M       R     GT3       T     OTHER     OTHER  COURSE    OTHER\n",
            "393     MS   M       R     LE3       T  SERVICES     OTHER  COURSE   MOTHER\n",
            "394     MS   M       U     LE3       T     OTHER   AT_HOME  COURSE   FATHER\n",
            "\n",
            "[395 rows x 9 columns]\n"
          ]
        }
      ],
      "source": [
        "sliced_df = sliced_df.applymap(lambda x: x.upper() if isinstance(x, str) else x)\n",
        "\n",
        "print(sliced_df)"
      ]
    },
    {
      "cell_type": "markdown",
      "metadata": {
        "pycharm": {
          "name": "#%% md\n"
        },
        "id": "023VQmSKxfkL"
      },
      "source": [
        "### Step 6. Capitalize both Mjob and Fjob"
      ]
    },
    {
      "cell_type": "code",
      "execution_count": 21,
      "metadata": {
        "pycharm": {
          "name": "#%%\n"
        },
        "colab": {
          "base_uri": "https://localhost:8080/"
        },
        "id": "yufbsJOhxfkM",
        "outputId": "9669f425-f308-4347-eb0e-f31f687c7322"
      },
      "outputs": [
        {
          "output_type": "stream",
          "name": "stdout",
          "text": [
            "    school sex address famsize Pstatus      Mjob      Fjob  reason guardian\n",
            "0       GP   F       U     GT3       A   AT_HOME   TEACHER  COURSE   MOTHER\n",
            "1       GP   F       U     GT3       T   AT_HOME     OTHER  COURSE   FATHER\n",
            "2       GP   F       U     LE3       T   AT_HOME     OTHER   OTHER   MOTHER\n",
            "3       GP   F       U     GT3       T    HEALTH  SERVICES    HOME   MOTHER\n",
            "4       GP   F       U     GT3       T     OTHER     OTHER    HOME   FATHER\n",
            "..     ...  ..     ...     ...     ...       ...       ...     ...      ...\n",
            "390     MS   M       U     LE3       A  SERVICES  SERVICES  COURSE    OTHER\n",
            "391     MS   M       U     LE3       T  SERVICES  SERVICES  COURSE   MOTHER\n",
            "392     MS   M       R     GT3       T     OTHER     OTHER  COURSE    OTHER\n",
            "393     MS   M       R     LE3       T  SERVICES     OTHER  COURSE   MOTHER\n",
            "394     MS   M       U     LE3       T     OTHER   AT_HOME  COURSE   FATHER\n",
            "\n",
            "[395 rows x 9 columns]\n"
          ]
        }
      ],
      "source": [
        "sliced_df[['Mjob', 'Fjob']] = sliced_df[['Mjob', 'Fjob']].applymap(lambda x: x.upper() if isinstance(x, str) else x)\n",
        "\n",
        "print(sliced_df)"
      ]
    },
    {
      "cell_type": "markdown",
      "metadata": {
        "pycharm": {
          "name": "#%% md\n"
        },
        "id": "2h99i5TcxfkM"
      },
      "source": [
        "### Step 7. Print the last elements of the data set."
      ]
    },
    {
      "cell_type": "code",
      "execution_count": 17,
      "metadata": {
        "pycharm": {
          "name": "#%%\n"
        },
        "colab": {
          "base_uri": "https://localhost:8080/"
        },
        "id": "hAnX_E-BxfkM",
        "outputId": "739bd524-6b21-4bf6-d34d-3814af98f6b7"
      },
      "outputs": [
        {
          "output_type": "stream",
          "name": "stdout",
          "text": [
            "    school sex address famsize Pstatus      Mjob      Fjob  reason guardian\n",
            "390     MS   M       U     LE3       A  SERVICES  SERVICES  COURSE    OTHER\n",
            "391     MS   M       U     LE3       T  SERVICES  SERVICES  COURSE   MOTHER\n",
            "392     MS   M       R     GT3       T     OTHER     OTHER  COURSE    OTHER\n",
            "393     MS   M       R     LE3       T  SERVICES     OTHER  COURSE   MOTHER\n",
            "394     MS   M       U     LE3       T     OTHER   AT_HOME  COURSE   FATHER\n"
          ]
        }
      ],
      "source": [
        "last_elements = sliced_df.tail()\n",
        "\n",
        "print(last_elements)"
      ]
    },
    {
      "cell_type": "markdown",
      "metadata": {
        "pycharm": {
          "name": "#%% md\n"
        },
        "id": "QpCDsiRRxfkM"
      },
      "source": [
        "### Step 8. Did you notice the original dataframe is still lowercase? Why is that? Fix it and capitalize Mjob and Fjob."
      ]
    },
    {
      "cell_type": "code",
      "execution_count": 20,
      "metadata": {
        "pycharm": {
          "name": "#%%\n"
        },
        "colab": {
          "base_uri": "https://localhost:8080/"
        },
        "id": "i733MuusxfkM",
        "outputId": "0c9df4ca-425c-4a7a-f1e0-926b68ec3d96"
      },
      "outputs": [
        {
          "output_type": "stream",
          "name": "stdout",
          "text": [
            "    school sex address famsize Pstatus      Mjob      Fjob  reason guardian\n",
            "0       GP   F       U     GT3       A   At_home   Teacher  COURSE   MOTHER\n",
            "1       GP   F       U     GT3       T   At_home     Other  COURSE   FATHER\n",
            "2       GP   F       U     LE3       T   At_home     Other   OTHER   MOTHER\n",
            "3       GP   F       U     GT3       T    Health  Services    HOME   MOTHER\n",
            "4       GP   F       U     GT3       T     Other     Other    HOME   FATHER\n",
            "..     ...  ..     ...     ...     ...       ...       ...     ...      ...\n",
            "390     MS   M       U     LE3       A  Services  Services  COURSE    OTHER\n",
            "391     MS   M       U     LE3       T  Services  Services  COURSE   MOTHER\n",
            "392     MS   M       R     GT3       T     Other     Other  COURSE    OTHER\n",
            "393     MS   M       R     LE3       T  Services     Other  COURSE   MOTHER\n",
            "394     MS   M       U     LE3       T     Other   At_home  COURSE   FATHER\n",
            "\n",
            "[395 rows x 9 columns]\n"
          ]
        }
      ],
      "source": [
        "sliced_df['Mjob'] = sliced_df['Mjob'].str.capitalize()\n",
        "sliced_df['Fjob'] = sliced_df['Fjob'].str.capitalize()\n",
        "\n",
        "print(sliced_df)"
      ]
    },
    {
      "cell_type": "markdown",
      "metadata": {
        "pycharm": {
          "name": "#%% md\n"
        },
        "id": "GjYPPUMMxfkM"
      },
      "source": [
        "### Step 9. Create a function called majority that returns a boolean value to a new column called legal_drinker (Consider majority as older than 17 years old)"
      ]
    },
    {
      "cell_type": "code",
      "execution_count": 22,
      "metadata": {
        "pycharm": {
          "name": "#%%\n"
        },
        "id": "NIvtZkwmxfkM"
      },
      "outputs": [],
      "source": [
        "def majority(age):\n",
        "    if age > 17:\n",
        "        return True\n",
        "    else:\n",
        "        return False\n",
        "\n"
      ]
    },
    {
      "cell_type": "code",
      "execution_count": 23,
      "metadata": {
        "pycharm": {
          "name": "#%%\n"
        },
        "colab": {
          "base_uri": "https://localhost:8080/"
        },
        "id": "EVbyGkD7xfkM",
        "outputId": "975b7ace-54a3-4d5d-c635-6250bbf6753a"
      },
      "outputs": [
        {
          "output_type": "stream",
          "name": "stdout",
          "text": [
            "    school sex  age address famsize Pstatus  Medu  Fedu      Mjob      Fjob  \\\n",
            "0       GP   F   18       U     GT3       A     4     4   at_home   teacher   \n",
            "1       GP   F   17       U     GT3       T     1     1   at_home     other   \n",
            "2       GP   F   15       U     LE3       T     1     1   at_home     other   \n",
            "3       GP   F   15       U     GT3       T     4     2    health  services   \n",
            "4       GP   F   16       U     GT3       T     3     3     other     other   \n",
            "..     ...  ..  ...     ...     ...     ...   ...   ...       ...       ...   \n",
            "390     MS   M   20       U     LE3       A     2     2  services  services   \n",
            "391     MS   M   17       U     LE3       T     3     1  services  services   \n",
            "392     MS   M   21       R     GT3       T     1     1     other     other   \n",
            "393     MS   M   18       R     LE3       T     3     2  services     other   \n",
            "394     MS   M   19       U     LE3       T     1     1     other   at_home   \n",
            "\n",
            "     ... freetime goout  Dalc  Walc  health absences  G1  G2  G3 legal_drinker  \n",
            "0    ...        3     4     1     1       3        6   5   6   6          True  \n",
            "1    ...        3     3     1     1       3        4   5   5   6         False  \n",
            "2    ...        3     2     2     3       3       10   7   8  10         False  \n",
            "3    ...        2     2     1     1       5        2  15  14  15         False  \n",
            "4    ...        3     2     1     2       5        4   6  10  10         False  \n",
            "..   ...      ...   ...   ...   ...     ...      ...  ..  ..  ..           ...  \n",
            "390  ...        5     4     4     5       4       11   9   9   9          True  \n",
            "391  ...        4     5     3     4       2        3  14  16  16         False  \n",
            "392  ...        5     3     3     3       3        3  10   8   7          True  \n",
            "393  ...        4     1     3     4       5        0  11  12  10          True  \n",
            "394  ...        2     3     3     3       5        5   8   9   9          True  \n",
            "\n",
            "[395 rows x 34 columns]\n"
          ]
        }
      ],
      "source": [
        "\n",
        "df['legal_drinker'] = df['age'].apply(majority)\n",
        "print(df)"
      ]
    },
    {
      "cell_type": "markdown",
      "metadata": {
        "pycharm": {
          "name": "#%% md\n"
        },
        "id": "fV9UN1vqxfkN"
      },
      "source": [
        "### Step 10. Multiply every number of the dataset by 10.\n",
        "##### I know this makes no sense, don't forget it is just an exercise"
      ]
    },
    {
      "cell_type": "code",
      "execution_count": 24,
      "metadata": {
        "pycharm": {
          "name": "#%%\n"
        },
        "id": "kPyGQcToxfkN"
      },
      "outputs": [],
      "source": [
        "def multiply_by_10(value):\n",
        "    if isinstance(value, int) or isinstance(value, float):\n",
        "        return value * 10\n",
        "    else:\n",
        "        return value\n",
        "\n",
        "\n"
      ]
    },
    {
      "cell_type": "code",
      "execution_count": 25,
      "metadata": {
        "pycharm": {
          "name": "#%%\n"
        },
        "colab": {
          "base_uri": "https://localhost:8080/"
        },
        "id": "cgXVsd-nxfkN",
        "outputId": "7d921205-595b-44d5-f092-14c1ed71f16e"
      },
      "outputs": [
        {
          "output_type": "stream",
          "name": "stdout",
          "text": [
            "    school sex  age address famsize Pstatus  Medu  Fedu      Mjob      Fjob  \\\n",
            "0       GP   F  180       U     GT3       A    40    40   at_home   teacher   \n",
            "1       GP   F  170       U     GT3       T    10    10   at_home     other   \n",
            "2       GP   F  150       U     LE3       T    10    10   at_home     other   \n",
            "3       GP   F  150       U     GT3       T    40    20    health  services   \n",
            "4       GP   F  160       U     GT3       T    30    30     other     other   \n",
            "..     ...  ..  ...     ...     ...     ...   ...   ...       ...       ...   \n",
            "390     MS   M  200       U     LE3       A    20    20  services  services   \n",
            "391     MS   M  170       U     LE3       T    30    10  services  services   \n",
            "392     MS   M  210       R     GT3       T    10    10     other     other   \n",
            "393     MS   M  180       R     LE3       T    30    20  services     other   \n",
            "394     MS   M  190       U     LE3       T    10    10     other   at_home   \n",
            "\n",
            "     ... freetime goout  Dalc  Walc  health absences   G1   G2   G3  \\\n",
            "0    ...       30    40    10    10      30       60   50   60   60   \n",
            "1    ...       30    30    10    10      30       40   50   50   60   \n",
            "2    ...       30    20    20    30      30      100   70   80  100   \n",
            "3    ...       20    20    10    10      50       20  150  140  150   \n",
            "4    ...       30    20    10    20      50       40   60  100  100   \n",
            "..   ...      ...   ...   ...   ...     ...      ...  ...  ...  ...   \n",
            "390  ...       50    40    40    50      40      110   90   90   90   \n",
            "391  ...       40    50    30    40      20       30  140  160  160   \n",
            "392  ...       50    30    30    30      30       30  100   80   70   \n",
            "393  ...       40    10    30    40      50        0  110  120  100   \n",
            "394  ...       20    30    30    30      50       50   80   90   90   \n",
            "\n",
            "    legal_drinker  \n",
            "0              10  \n",
            "1               0  \n",
            "2               0  \n",
            "3               0  \n",
            "4               0  \n",
            "..            ...  \n",
            "390            10  \n",
            "391             0  \n",
            "392            10  \n",
            "393            10  \n",
            "394            10  \n",
            "\n",
            "[395 rows x 34 columns]\n"
          ]
        }
      ],
      "source": [
        "df = df.applymap(multiply_by_10)\n",
        "\n",
        "print(df)"
      ]
    }
  ],
  "metadata": {
    "anaconda-cloud": {},
    "kernelspec": {
      "display_name": "Python [default]",
      "language": "python",
      "name": "python2"
    },
    "language_info": {
      "codemirror_mode": {
        "name": "ipython",
        "version": 2
      },
      "file_extension": ".py",
      "mimetype": "text/x-python",
      "name": "python",
      "nbconvert_exporter": "python",
      "pygments_lexer": "ipython2",
      "version": "2.7.12"
    },
    "colab": {
      "provenance": [],
      "include_colab_link": true
    }
  },
  "nbformat": 4,
  "nbformat_minor": 0
}